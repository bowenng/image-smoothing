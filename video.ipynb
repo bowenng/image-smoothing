{
 "cells": [
  {
   "cell_type": "code",
   "execution_count": 23,
   "outputs": [],
   "source": [
    "import torch\n",
    "from torchvision import transforms\n",
    "import os\n",
    "import pickle\n",
    "from collections import defaultdict\n",
    "from PIL import Image"
   ],
   "metadata": {
    "collapsed": false,
    "pycharm": {
     "name": "#%%\n",
     "is_executing": false
    }
   }
  },
  {
   "cell_type": "code",
   "execution_count": 19,
   "outputs": [],
   "source": [
    "video_root = \"davis_480\"\n",
    "image_dir = \"images\"\n",
    "edge_dir = \"edges\"\n",
    "video_folders = os.listdir(os.path.join(video_root, image_dir))\n",
    "video_dataset = defaultdict(list)\n",
    "to_tensor = transforms.ToTensor()\n",
    "for folder in video_folders:\n",
    "    video_files = sorted(os.listdir(os.path.join(video_root,folder)))\n",
    "    video_frames = []\n",
    "    for image_file in video_files:\n",
    "        frame_full_path = os.path.join(video_root, folder, image_file)\n",
    "        frame = Image.open(frame_full_path).convert(\"RGB\")\n",
    "        frame_tensor = to_tensor(frame)\n",
    "        video_frames.append(frame_tensor)\n",
    "        \n",
    "    \n"
   ],
   "metadata": {
    "collapsed": false,
    "pycharm": {
     "name": "#%%\n",
     "is_executing": false
    }
   }
  },
  {
   "cell_type": "code",
   "execution_count": 26,
   "outputs": [],
   "source": [
    "test_transform = transforms.Compose([\n",
    "    transforms.CenterCrop((128,128)),\n",
    "    transforms.ToTensor()\n",
    "])\n",
    "edge = test_transform(Image.open(os.path.join(\"edges\",\"edge_img.jpg\")))\n"
   ],
   "metadata": {
    "collapsed": false,
    "pycharm": {
     "name": "#%%\n",
     "is_executing": false
    }
   }
  },
  {
   "cell_type": "code",
   "execution_count": 30,
   "outputs": [],
   "source": [
    "mask = edge > 0"
   ],
   "metadata": {
    "collapsed": false,
    "pycharm": {
     "name": "#%%\n",
     "is_executing": false
    }
   }
  },
  {
   "cell_type": "code",
   "execution_count": 31,
   "outputs": [
    {
     "data": {
      "text/plain": "torch.Size([1, 128, 128])"
     },
     "metadata": {},
     "output_type": "execute_result",
     "execution_count": 31
    }
   ],
   "source": [
    "mask.shape\n"
   ],
   "metadata": {
    "collapsed": false,
    "pycharm": {
     "name": "#%%\n",
     "is_executing": false
    }
   }
  },
  {
   "cell_type": "code",
   "execution_count": null,
   "outputs": [],
   "source": [
    "\n"
   ],
   "metadata": {
    "collapsed": false,
    "pycharm": {
     "name": "#%%\n"
    }
   }
  }
 ],
 "metadata": {
  "kernelspec": {
   "display_name": "PyCharm (StyleTransfer)",
   "language": "python",
   "name": "pycharm-a1ebd8f8"
  },
  "language_info": {
   "codemirror_mode": {
    "name": "ipython",
    "version": 3
   },
   "file_extension": ".py",
   "mimetype": "text/x-python",
   "name": "python",
   "nbconvert_exporter": "python",
   "pygments_lexer": "ipython3",
   "version": "3.7.3"
  },
  "pycharm": {
   "stem_cell": {
    "cell_type": "raw",
    "source": [],
    "metadata": {
     "collapsed": false
    }
   }
  }
 },
 "nbformat": 4,
 "nbformat_minor": 1
}