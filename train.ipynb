{
 "cells": [
  {
   "cell_type": "code",
   "execution_count": 3,
   "metadata": {
    "collapsed": true,
    "pycharm": {
     "is_executing": false
    }
   },
   "outputs": [],
   "source": [
    "from core.data.data import Dataset\n",
    "from core.loss.loss import TotalLoss\n",
    "from core.network.smoothingnetwork import SmoothingNet\n",
    "from torch.optim import Adam\n",
    "from torch.utils import data\n",
    "import torch"
   ]
  },
  {
   "cell_type": "code",
   "execution_count": 8,
   "outputs": [],
   "source": [
    "def train(net, epochs, batch_size, optimizer, dataset):\n",
    "    dataloader = data.DataLoader(dataset, batch_size=batch_size)\n",
    "    \n",
    "    net.train()\n",
    "    \n",
    "    criteria = TotalLoss()\n",
    "    for e in range(epochs):\n",
    "        for i, (images, binary_mask) in enumerate(dataloader):\n",
    "            optimizer.zero_grad()\n",
    "            \n",
    "            smooth_images = net(images)\n",
    "            \n",
    "            loss = criteria(images, smooth_images, binary_mask)\n",
    "            \n",
    "            loss.backward()\n",
    "            optimizer.step()\n",
    "    \n",
    "    torch.save({'state_dict':net.state_dict(),\n",
    "                    'epoch':e}, ('model.pth'))"
   ],
   "metadata": {
    "collapsed": false,
    "pycharm": {
     "name": "#%%\n",
     "is_executing": false
    }
   }
  },
  {
   "cell_type": "code",
   "execution_count": 9,
   "outputs": [],
   "source": [
    "net = SmoothingNet()\n",
    "epochs = 30\n",
    "batch_size = 1\n",
    "dataset = Dataset(\"images\", \"edges\")\n",
    "optimizer = Adam(net.parameters())\n"
   ],
   "metadata": {
    "collapsed": false,
    "pycharm": {
     "name": "#%%\n",
     "is_executing": false
    }
   }
  },
  {
   "cell_type": "code",
   "execution_count": null,
   "outputs": [],
   "source": [
    "train(net, epochs, batch_size, optimizer, dataset)"
   ],
   "metadata": {
    "collapsed": false,
    "pycharm": {
     "name": "#%%\n",
     "is_executing": true
    }
   }
  },
  {
   "cell_type": "code",
   "execution_count": null,
   "outputs": [],
   "source": [
    "\n"
   ],
   "metadata": {
    "collapsed": false,
    "pycharm": {
     "name": "#%%\n"
    }
   }
  }
 ],
 "metadata": {
  "language_info": {
   "codemirror_mode": {
    "name": "ipython",
    "version": 2
   },
   "file_extension": ".py",
   "mimetype": "text/x-python",
   "name": "python",
   "nbconvert_exporter": "python",
   "pygments_lexer": "ipython2",
   "version": "2.7.6"
  },
  "kernelspec": {
   "name": "pycharm-a1ebd8f8",
   "language": "python",
   "display_name": "PyCharm (StyleTransfer)"
  },
  "pycharm": {
   "stem_cell": {
    "cell_type": "raw",
    "source": [],
    "metadata": {
     "collapsed": false
    }
   }
  }
 },
 "nbformat": 4,
 "nbformat_minor": 0
}